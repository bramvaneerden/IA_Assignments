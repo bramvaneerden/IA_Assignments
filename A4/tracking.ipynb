{
 "cells": [
  {
   "cell_type": "markdown",
   "metadata": {},
   "source": [
    "# Assignment 4: Tracking, Time-resolved microscopy"
   ]
  },
  {
   "cell_type": "code",
   "execution_count": 1,
   "metadata": {},
   "outputs": [
    {
     "name": "stdout",
     "output_type": "stream",
     "text": [
      "DIPlib -- a quantitative image analysis library\n",
      "Version 3.4.3 (Mar 21 2024)\n",
      "For more information see https://diplib.org\n"
     ]
    }
   ],
   "source": [
    "import diplib as dip\n",
    "import matplotlib.pyplot as plt\n",
    "import numpy as np"
   ]
  },
  {
   "cell_type": "code",
   "execution_count": 2,
   "metadata": {},
   "outputs": [],
   "source": [
    "img_folder = 'images/'\n",
    "fn_pattern = 'MTLn3{group}00{num}.tif'\n",
    "group_names = {'egf': '+egf', 'ctrl': '-ctrl'}"
   ]
  },
  {
   "cell_type": "code",
   "execution_count": 3,
   "metadata": {},
   "outputs": [],
   "source": [
    "def remove_border_objects(img):\n",
    "    seed = np.ones(np.array(img.Sizes()) - 2)\n",
    "    seed = 1 - np.pad(seed, pad_width=1)\n",
    "    seed = dip.FixedThreshold(dip.Image(seed), 0.5)\n",
    "    edge_objects = dip.BinaryPropagation(seed, img)\n",
    "    img -= edge_objects\n",
    "    return img"
   ]
  },
  {
   "cell_type": "code",
   "execution_count": 4,
   "metadata": {},
   "outputs": [],
   "source": [
    "images = {'ctrl': {}, 'egf': {}}\n",
    "\n",
    "for group in images.keys():\n",
    "    for num in range(30):\n",
    "        num_str = '0' + str(num) if num < 10 else str(num)\n",
    "        images[group][num] = dip.ImageReadTIFF(img_folder + fn_pattern.format(group=group_names[group], num=num_str))"
   ]
  },
  {
   "cell_type": "code",
   "execution_count": null,
   "metadata": {},
   "outputs": [],
   "source": [
    "# for num in images['ctrl'].keys():\n",
    "#     img = images['ctrl'][num]\n",
    "#     rescaled_img = img / 2 ** 16 # rescale to [0..1]\n",
    "#     grey_img = dip.ColorSpaceManager.Convert(img, 'grey') # convert from RGB to grey-scale\n",
    "#     even_img = grey_img - dip.Tophat(img, 10) # remove background\n",
    "#     bin_img = dip.IsodataThreshold(img) # apply ISODATA threshold\n",
    "#     noe_img = remove_border_objects(img)\n",
    "    \n",
    "#     images['ctrl'][num] = noe_img"
   ]
  },
  {
   "cell_type": "code",
   "execution_count": 6,
   "metadata": {},
   "outputs": [],
   "source": [
    "img = images['ctrl'][8]\n",
    "rescaled_img = img / 2 ** 16 # rescale to [0..1]\n",
    "grey_img = dip.ColorSpaceManager.Convert(rescaled_img, 'grey') # convert from RGB to grey-scale\n",
    "even_img = grey_img - dip.Tophat(grey_img, 10) # remove background\n",
    "bin_img = dip.IsodataThreshold(even_img) # apply ISODATA threshold\n",
    "noe_img = remove_border_objects(bin_img)\n",
    "label_img = dip.Label(noe_img)\n",
    "label_img = dip.Label(noe_img)"
   ]
  },
  {
   "cell_type": "code",
   "execution_count": 7,
   "metadata": {},
   "outputs": [
    {
     "data": {
      "image/png": "[encoded data removed]",
      "text/plain": [
       "<Figure size 640x480 with 1 Axes>"
      ]
     },
     "metadata": {},
     "output_type": "display_data"
    }
   ],
   "source": [
    "label_img.Show()"
   ]
  },
  {
   "cell_type": "code",
   "execution_count": 14,
   "metadata": {},
   "outputs": [
    {
     "name": "stdout",
     "output_type": "stream",
     "text": [
      "   |                 Gravity | \n",
      "-- | ----------------------- | \n",
      "   |       dim0 |       dim1 | \n",
      "   |       (fm) |       (fm) | \n",
      "-- | ---------- | ---------- | \n",
      " 1 |        inf |        inf | \n",
      " 2 |        inf |        inf | \n",
      " 3 |        inf |        inf | \n",
      " 4 |        inf |        inf | \n",
      " 5 |        inf |        inf | \n",
      " 6 |        inf |        inf | \n",
      " 7 |        inf |        inf | \n",
      " 8 |        inf |        inf | \n",
      " 9 |        inf |        inf | \n",
      "10 |        inf |        inf | \n",
      "11 |        inf |        inf | \n",
      "12 |        inf |        inf | \n",
      "13 |        inf |        inf | \n",
      "14 |        inf |        inf | \n",
      "15 |        inf |        inf | \n",
      "16 |        inf |        inf | \n",
      "17 |        inf |        inf | \n",
      "18 |        inf |        inf | \n",
      "19 |        inf |        inf | \n",
      "20 |        inf |        inf | \n",
      "21 |        inf |        inf | \n",
      "22 |        inf |        inf | \n",
      "23 |        inf |        inf | \n",
      "24 |        inf |        inf | \n",
      "25 |        inf |        inf | \n",
      "26 |        inf |        inf | \n",
      "27 |        inf |        inf | \n",
      "28 |        inf |        inf | \n",
      "29 |        inf |        inf | \n",
      "30 |        inf |        inf | \n",
      "31 |        inf |        inf | \n",
      "32 |        inf |        inf | \n",
      "33 |        inf |        inf | \n",
      "34 |        inf |        inf | \n",
      "35 |        inf |        inf | \n",
      "36 |        inf |        inf | \n",
      "37 |        inf |        inf | \n",
      "38 |        inf |        inf | \n",
      "39 |        inf |        inf | \n",
      "40 |        inf |        inf | \n",
      "41 |        inf |        inf | \n",
      "42 |        inf |        inf | \n",
      "43 |        inf |        inf | \n",
      "44 |        inf |        inf | \n",
      "45 |        inf |        inf | \n",
      "46 |        inf |        inf | \n",
      "47 |        inf |        inf | \n",
      "48 |        inf |        inf | \n",
      "49 |        inf |        inf | \n",
      "50 |        inf |        inf | \n",
      "51 |        inf |        inf | \n",
      "52 |        inf |        inf | \n",
      "53 |        inf |        inf | \n",
      "54 |        inf |        inf | \n",
      "55 |        inf |        inf | \n",
      "56 |        inf |        inf | \n",
      "57 |        inf |        inf | \n",
      "58 |        inf |        inf | \n",
      "59 |        inf |        inf | \n",
      "60 |        inf |        inf | \n",
      "61 |        inf |        inf | \n",
      "62 |        inf |        inf | \n",
      "63 |        inf |        inf | \n",
      "64 |        inf |        inf | \n",
      "65 |        inf |        inf | \n",
      "66 |        inf |        inf | \n",
      "67 |        inf |        inf | \n",
      "68 |        inf |        inf | \n",
      "69 |        inf |        inf | \n",
      "70 |        inf |        inf | \n",
      "71 |        inf |        inf | \n",
      "72 |        inf |        inf | \n",
      "73 |        inf |        inf | \n",
      "74 |        inf |        inf | \n",
      "75 |        inf |        inf | \n",
      "76 |        inf |        inf | \n",
      "77 |        inf |        inf | \n",
      "78 |        inf |        inf | \n",
      "79 |        inf |        inf | \n",
      "80 |        inf |        inf | \n",
      "81 |        inf |        inf | \n",
      "82 |        inf |        inf | \n",
      "83 |        inf |        inf | \n",
      "84 |        inf |        inf | \n",
      "85 |        inf |        inf | \n",
      "86 |        inf |        inf | \n",
      "87 |        inf |        inf | \n",
      "88 |        inf |        inf | \n",
      "89 |        inf |        inf | \n",
      "\n"
     ]
    }
   ],
   "source": [
    "msr = dip.MeasurementTool.Measure(label_img, grey_img, ['Size'])\n",
    "\n",
    "print(msr)"
   ]
  },
  {
   "cell_type": "code",
   "execution_count": 379,
   "metadata": {},
   "outputs": [
    {
     "name": "stderr",
     "output_type": "stream",
     "text": [
      "/var/folders/j8/xlfl488j7csblljxvg0xx4nh0000gn/T/ipykernel_77141/3477970764.py:3: RuntimeWarning: Converting input from bool to <class 'numpy.uint8'> for compatibility.\n",
      "  hist_tif = np.histogram(img_data, bins=100)\n"
     ]
    },
    {
     "data": {
      "image/png": "[encoded data removed]",
      "text/plain": [
       "<Figure size 700x500 with 1 Axes>"
      ]
     },
     "metadata": {},
     "output_type": "display_data"
    }
   ],
   "source": [
    "img_data = np.asarray(img)\n",
    "\n",
    "hist_tif = np.histogram(img_data, bins=100)\n",
    "\n",
    "plt.figure(figsize=(7, 5))\n",
    "plt.plot(hist_tif[1][:-1], hist_tif[0], label='TIFF')\n",
    "plt.title('histogram of scale-img.tif')\n",
    "plt.xlabel('pixel intensity')\n",
    "plt.ylabel('frequency')\n",
    "plt.ylim(0, 250_000)\n",
    "\n",
    "plt.show()"
   ]
  },
  {
   "cell_type": "code",
   "execution_count": null,
   "metadata": {},
   "outputs": [],
   "source": []
  }
 ],
 "metadata": {
  "kernelspec": {
   "display_name": "base",
   "language": "python",
   "name": "python3"
  },
  "language_info": {
   "codemirror_mode": {
    "name": "ipython",
    "version": 3
   },
   "file_extension": ".py",
   "mimetype": "text/x-python",
   "name": "python",
   "nbconvert_exporter": "python",
   "pygments_lexer": "ipython3",
   "version": "3.12.2"
  }
 },
 "nbformat": 4,
 "nbformat_minor": 2
}
