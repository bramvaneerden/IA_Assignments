{
  "cells": [
    {
      "cell_type": "code",
      "execution_count": 2,
      "metadata": {
        "colab": {
          "base_uri": "https://localhost:8080/"
        },
        "id": "WchfEv39xgcQ",
        "outputId": "a2eaf88d-e8b1-486c-8b52-f6d0014b7084"
      },
      "outputs": [
        {
          "name": "stdout",
          "output_type": "stream",
          "text": [
            "Requirement already satisfied: tifffile[all] in c:\\users\\bramv\\miniconda3\\envs\\tf\\lib\\site-packages (2023.9.26)\n",
            "Collecting tifffile[all]\n",
            "  Downloading tifffile-2024.6.18-py3-none-any.whl.metadata (31 kB)\n",
            "Requirement already satisfied: numpy in c:\\users\\bramv\\miniconda3\\envs\\tf\\lib\\site-packages (from tifffile[all]) (1.23.5)\n",
            "Collecting imagecodecs>=2023.8.12 (from tifffile[all])\n",
            "  Downloading imagecodecs-2024.6.1-cp39-cp39-win_amd64.whl.metadata (19 kB)\n",
            "Requirement already satisfied: matplotlib in c:\\users\\bramv\\miniconda3\\envs\\tf\\lib\\site-packages (from tifffile[all]) (3.7.1)\n",
            "Requirement already satisfied: defusedxml in c:\\users\\bramv\\miniconda3\\envs\\tf\\lib\\site-packages (from tifffile[all]) (0.7.1)\n",
            "Requirement already satisfied: lxml in c:\\users\\bramv\\miniconda3\\envs\\tf\\lib\\site-packages (from tifffile[all]) (5.2.2)\n",
            "Collecting zarr (from tifffile[all])\n",
            "  Downloading zarr-2.18.2-py3-none-any.whl.metadata (5.7 kB)\n",
            "Requirement already satisfied: fsspec in c:\\users\\bramv\\miniconda3\\envs\\tf\\lib\\site-packages (from tifffile[all]) (2023.10.0)\n",
            "Requirement already satisfied: contourpy>=1.0.1 in c:\\users\\bramv\\miniconda3\\envs\\tf\\lib\\site-packages (from matplotlib->tifffile[all]) (1.0.7)\n",
            "Requirement already satisfied: cycler>=0.10 in c:\\users\\bramv\\miniconda3\\envs\\tf\\lib\\site-packages (from matplotlib->tifffile[all]) (0.11.0)\n",
            "Requirement already satisfied: fonttools>=4.22.0 in c:\\users\\bramv\\miniconda3\\envs\\tf\\lib\\site-packages (from matplotlib->tifffile[all]) (4.39.3)\n",
            "Requirement already satisfied: kiwisolver>=1.0.1 in c:\\users\\bramv\\miniconda3\\envs\\tf\\lib\\site-packages (from matplotlib->tifffile[all]) (1.4.4)\n",
            "Requirement already satisfied: packaging>=20.0 in c:\\users\\bramv\\miniconda3\\envs\\tf\\lib\\site-packages (from matplotlib->tifffile[all]) (23.1)\n",
            "Requirement already satisfied: pillow>=6.2.0 in c:\\users\\bramv\\miniconda3\\envs\\tf\\lib\\site-packages (from matplotlib->tifffile[all]) (9.5.0)\n",
            "Requirement already satisfied: pyparsing>=2.3.1 in c:\\users\\bramv\\miniconda3\\envs\\tf\\lib\\site-packages (from matplotlib->tifffile[all]) (3.0.9)\n",
            "Requirement already satisfied: python-dateutil>=2.7 in c:\\users\\bramv\\miniconda3\\envs\\tf\\lib\\site-packages (from matplotlib->tifffile[all]) (2.8.2)\n",
            "Requirement already satisfied: importlib-resources>=3.2.0 in c:\\users\\bramv\\miniconda3\\envs\\tf\\lib\\site-packages (from matplotlib->tifffile[all]) (5.12.0)\n",
            "Collecting asciitree (from zarr->tifffile[all])\n",
            "  Downloading asciitree-0.3.3.tar.gz (4.0 kB)\n",
            "  Preparing metadata (setup.py): started\n",
            "  Preparing metadata (setup.py): finished with status 'done'\n",
            "Collecting numcodecs>=0.10.0 (from zarr->tifffile[all])\n",
            "  Downloading numcodecs-0.12.1-cp39-cp39-win_amd64.whl.metadata (2.9 kB)\n",
            "Collecting fasteners (from zarr->tifffile[all])\n",
            "  Downloading fasteners-0.19-py3-none-any.whl.metadata (4.9 kB)\n",
            "Requirement already satisfied: zipp>=3.1.0 in c:\\users\\bramv\\miniconda3\\envs\\tf\\lib\\site-packages (from importlib-resources>=3.2.0->matplotlib->tifffile[all]) (3.15.0)\n",
            "Requirement already satisfied: six>=1.5 in c:\\users\\bramv\\miniconda3\\envs\\tf\\lib\\site-packages (from python-dateutil>=2.7->matplotlib->tifffile[all]) (1.16.0)\n",
            "Downloading imagecodecs-2024.6.1-cp39-cp39-win_amd64.whl (25.8 MB)\n",
            "   ---------------------------------------- 0.0/25.8 MB ? eta -:--:--\n",
            "   ---------------------------------------- 0.1/25.8 MB 3.3 MB/s eta 0:00:08\n",
            "   - -------------------------------------- 0.6/25.8 MB 10.2 MB/s eta 0:00:03\n",
            "   - -------------------------------------- 1.0/25.8 MB 11.0 MB/s eta 0:00:03\n",
            "   --- ------------------------------------ 2.1/25.8 MB 13.5 MB/s eta 0:00:02\n",
            "   ----- ---------------------------------- 3.3/25.8 MB 17.4 MB/s eta 0:00:02\n",
            "   ----- ---------------------------------- 3.3/25.8 MB 14.2 MB/s eta 0:00:02\n",
            "   ----- ---------------------------------- 3.4/25.8 MB 12.1 MB/s eta 0:00:02\n",
            "   ----- ---------------------------------- 3.5/25.8 MB 10.3 MB/s eta 0:00:03\n",
            "   ----- ---------------------------------- 3.8/25.8 MB 9.6 MB/s eta 0:00:03\n",
            "   ------- -------------------------------- 4.6/25.8 MB 10.5 MB/s eta 0:00:03\n",
            "   ---------- ----------------------------- 6.9/25.8 MB 14.3 MB/s eta 0:00:02\n",
            "   -------------- ------------------------- 9.4/25.8 MB 17.7 MB/s eta 0:00:01\n",
            "   ----------------- ---------------------- 11.2/25.8 MB 20.5 MB/s eta 0:00:01\n",
            "   ------------------- -------------------- 12.3/25.8 MB 21.8 MB/s eta 0:00:01\n",
            "   ---------------------- ----------------- 14.6/25.8 MB 43.5 MB/s eta 0:00:01\n",
            "   -------------------------- ------------- 17.0/25.8 MB 43.5 MB/s eta 0:00:01\n",
            "   ---------------------------- ----------- 18.1/25.8 MB 40.9 MB/s eta 0:00:01\n",
            "   ------------------------------ --------- 19.9/25.8 MB 38.6 MB/s eta 0:00:01\n",
            "   ------------------------------ --------- 19.9/25.8 MB 38.6 MB/s eta 0:00:01\n",
            "   --------------------------------- ------ 21.8/25.8 MB 34.4 MB/s eta 0:00:01\n",
            "   ------------------------------------- -- 24.2/25.8 MB 36.4 MB/s eta 0:00:01\n",
            "   ---------------------------------------  25.7/25.8 MB 34.4 MB/s eta 0:00:01\n",
            "   ---------------------------------------- 25.8/25.8 MB 29.7 MB/s eta 0:00:00\n",
            "Downloading tifffile-2024.6.18-py3-none-any.whl (226 kB)\n",
            "   ---------------------------------------- 0.0/226.0 kB ? eta -:--:--\n",
            "   ---------------------------------------- 226.0/226.0 kB ? eta 0:00:00\n",
            "Downloading zarr-2.18.2-py3-none-any.whl (210 kB)\n",
            "   ---------------------------------------- 0.0/210.2 kB ? eta -:--:--\n",
            "   --------------------------------------- 210.2/210.2 kB 13.3 MB/s eta 0:00:00\n",
            "Downloading numcodecs-0.12.1-cp39-cp39-win_amd64.whl (792 kB)\n",
            "   ---------------------------------------- 0.0/792.9 kB ? eta -:--:--\n",
            "   --------------------------------------- 792.9/792.9 kB 52.2 MB/s eta 0:00:00\n",
            "Downloading fasteners-0.19-py3-none-any.whl (18 kB)\n",
            "Building wheels for collected packages: asciitree\n",
            "  Building wheel for asciitree (setup.py): started\n",
            "  Building wheel for asciitree (setup.py): finished with status 'done'\n",
            "  Created wheel for asciitree: filename=asciitree-0.3.3-py3-none-any.whl size=5047 sha256=f639336fc06f797623c5179f3248f480cfd93dbd7752263ba425be263e19316b\n",
            "  Stored in directory: c:\\users\\bramv\\appdata\\local\\pip\\cache\\wheels\\07\\00\\bc\\937e878be0d781a569792a1e0e5acf149e463d4536453ec978\n",
            "Successfully built asciitree\n",
            "Installing collected packages: asciitree, tifffile, numcodecs, imagecodecs, fasteners, zarr\n",
            "  Attempting uninstall: tifffile\n",
            "    Found existing installation: tifffile 2023.9.26\n",
            "    Uninstalling tifffile-2023.9.26:\n",
            "      Successfully uninstalled tifffile-2023.9.26\n",
            "Successfully installed asciitree-0.3.3 fasteners-0.19 imagecodecs-2024.6.1 numcodecs-0.12.1 tifffile-2024.6.18 zarr-2.18.2\n",
            "Requirement already satisfied: pip in c:\\users\\bramv\\miniconda3\\envs\\tf\\lib\\site-packages (23.3.1)\n",
            "Collecting install\n",
            "  Downloading install-1.3.5-py3-none-any.whl.metadata (925 bytes)\n",
            "Collecting readlif\n",
            "  Downloading readlif-0.6.5-py3-none-any.whl.metadata (6.5 kB)\n",
            "Requirement already satisfied: Pillow>=4.2.0 in c:\\users\\bramv\\miniconda3\\envs\\tf\\lib\\site-packages (from readlif) (9.5.0)\n",
            "Downloading install-1.3.5-py3-none-any.whl (3.2 kB)\n",
            "Downloading readlif-0.6.5-py3-none-any.whl (24 kB)\n",
            "Installing collected packages: readlif, install\n",
            "Successfully installed install-1.3.5 readlif-0.6.5\n",
            "Collecting diplib==3.4.0\n",
            "  Downloading diplib-3.4.0-cp39-cp39-win_amd64.whl.metadata (5.7 kB)\n",
            "Downloading diplib-3.4.0-cp39-cp39-win_amd64.whl (4.7 MB)\n",
            "   ---------------------------------------- 0.0/4.7 MB ? eta -:--:--\n",
            "   ---------------------------------------- 0.0/4.7 MB ? eta -:--:--\n",
            "    --------------------------------------- 0.1/4.7 MB 812.7 kB/s eta 0:00:06\n",
            "   --- ------------------------------------ 0.4/4.7 MB 3.7 MB/s eta 0:00:02\n",
            "   -------- ------------------------------- 1.0/4.7 MB 7.3 MB/s eta 0:00:01\n",
            "   -------- ------------------------------- 1.0/4.7 MB 7.3 MB/s eta 0:00:01\n",
            "   -------- ------------------------------- 1.0/4.7 MB 7.3 MB/s eta 0:00:01\n",
            "   ----------------- ---------------------- 2.1/4.7 MB 7.4 MB/s eta 0:00:01\n",
            "   ----------------- ---------------------- 2.1/4.7 MB 7.4 MB/s eta 0:00:01\n",
            "   ----------------- ---------------------- 2.1/4.7 MB 7.4 MB/s eta 0:00:01\n",
            "   ----------------------- ---------------- 2.7/4.7 MB 6.1 MB/s eta 0:00:01\n",
            "   -------------------------- ------------- 3.1/4.7 MB 6.9 MB/s eta 0:00:01\n",
            "   -------------------------- ------------- 3.1/4.7 MB 6.9 MB/s eta 0:00:01\n",
            "   ----------------------------------- ---- 4.2/4.7 MB 7.2 MB/s eta 0:00:01\n",
            "   ----------------------------------- ---- 4.2/4.7 MB 7.2 MB/s eta 0:00:01\n",
            "   ---------------------------------------  4.6/4.7 MB 7.0 MB/s eta 0:00:01\n",
            "   ---------------------------------------- 4.7/4.7 MB 6.8 MB/s eta 0:00:00\n",
            "Installing collected packages: diplib\n",
            "  Attempting uninstall: diplib\n",
            "    Found existing installation: diplib 3.4.3\n",
            "    Uninstalling diplib-3.4.3:\n",
            "      Successfully uninstalled diplib-3.4.3\n",
            "Successfully installed diplib-3.4.0\n",
            "DIPlib -- a quantitative image analysis library\n",
            "Version 3.4.0 (Dec  8 2022)\n",
            "For more information see https://diplib.org\n"
          ]
        }
      ],
      "source": [
        "# from google.colab import drive\n",
        "# drive.mount('/content/drive', force_remount=False)\n",
        "import numpy as np\n",
        "import matplotlib.pyplot as plt\n",
        "!pip install -U tifffile[all]\n",
        "from tifffile import tifffile as tiff\n",
        "!pip install pip install readlif\n",
        "from readlif.reader import LifFile\n",
        "!pip install diplib==3.4.0\n",
        "import diplib as dip"
      ]
    },
    {
      "cell_type": "markdown",
      "metadata": {
        "id": "txVcO_7KqrzS"
      },
      "source": [
        "# Read and unpack lif-file, and convert to numpy. Then Store as 3D tiff.\n",
        "You need to unpack your lif file and convert it to a 3D tiff-file. The two functions below can be used for reading lif->numpy and storing numpy->3D-tiff."
      ]
    },
    {
      "cell_type": "code",
      "execution_count": 111,
      "metadata": {
        "id": "4uiKUXIzxI2y"
      },
      "outputs": [
        {
          "name": "stdout",
          "output_type": "stream",
          "text": [
            "(3, 32, 512, 512)\n"
          ]
        }
      ],
      "source": [
        "def Lif_to_Numpy ( image_stack ) :\n",
        "  Channels = [ list () for _ in range ( image_stack.channels ) ]\n",
        "  for C in range ( image_stack.channels ) :\n",
        "    for frame in image.get_iter_z ( c = C ) :\n",
        "      Channels [C].append (np.array ( frame ) )\n",
        "  return np.array ( Channels )\n",
        "#*******************************************************************************\n",
        "def Save_Stacked_Image ( image , filename , path = '') :\n",
        "  image = np.array ( dip.Image ( image ) )\n",
        "  tiff.imwrite(path+filename+'.tiff', image)\n",
        "#*******************************************************************************\n",
        "\n",
        "def enhance_signal(image):\n",
        "    channel, depth, y_size, x_size = image.shape\n",
        "    print(image.shape)\n",
        "\n",
        "    enhanced_image = np.zeros_like(image)\n",
        "\n",
        "    for i in range(channel):\n",
        "        for j in range(depth):\n",
        "            img_slice = dip.Image(image[i, j, :, :])\n",
        "            \n",
        "            # plt.imshow(img_slice)\n",
        "            # plt.show()\n",
        "            better = dip.Sharpen(img_slice)\n",
        "            mask = dip.OtsuThreshold(better)\n",
        "            better = better * mask\n",
        "            # plt.imshow(better)\n",
        "            # plt.show()\n",
        "            # break\n",
        "            enhanced_image[i, j, :, :] = better\n",
        "\n",
        "    return enhanced_image\n",
        "      \n",
        "lif_file = LifFile (\"C:/Users/bramv/OneDrive - Square Four/Documenten/Leiden/23-24/IA/A6/Images/team08.lif\" ) # XXX Fill in your filename and path\n",
        "for idx , image in enumerate ( lif_file.get_iter_image () ) :\n",
        "  if idx == 0:\n",
        "    img = Lif_to_Numpy ( image )\n",
        "    enh_img = enhance_signal(img)\n",
        "  else:\n",
        "    break\n",
        "  Save_Stacked_Image ( enh_img , f\"C:/Users/bramv/OneDrive - Square Four/Documenten/Leiden/23-24/IA/A6/Images/Image_for_Huygens_{idx}\")"
      ]
    },
    {
      "cell_type": "markdown",
      "metadata": {
        "id": "2hgOZLfNq44Q"
      },
      "source": [
        "# Reading 3D tiff stacks\n",
        "If you have already converted your lif files to tiff you can read it as follows."
      ]
    },
    {
      "cell_type": "code",
      "execution_count": null,
      "metadata": {
        "colab": {
          "base_uri": "https://localhost:8080/"
        },
        "id": "4YpwstnGxYqi",
        "outputId": "a73ba15c-df5e-4440-d9fe-695dd1055feb"
      },
      "outputs": [
        {
          "name": "stdout",
          "output_type": "stream",
          "text": [
            "The shape of Image_for_Huygens_0.tiff is (31, 512, 512, 3)\n"
          ]
        }
      ],
      "source": [
        "def ReadStackedTiff ( filename , path = '/content/drive/MyDrive/') : # XXX Fill in your path\n",
        "  image_stack = tiff.imread ( path + filename )\n",
        "  print(f\"The shape of { filename } is { image_stack.shape }\")\n",
        "  return image_stack\n",
        "#*******************************************************************************\n",
        "def Stack_to_dip_list ( imageStack ) :\n",
        "  return [ dip.Image ( image ) for image in imageStack ]\n",
        "#*******************************************************************************\n",
        "image_stack = ReadStackedTiff ( \"Image_for_Huygens_0.tiff\" )\n",
        "dipImages_stack = Stack_to_dip_list ( image_stack )"
      ]
    }
  ],
  "metadata": {
    "colab": {
      "provenance": []
    },
    "kernelspec": {
      "display_name": "Python 3",
      "name": "python3"
    },
    "language_info": {
      "codemirror_mode": {
        "name": "ipython",
        "version": 3
      },
      "file_extension": ".py",
      "mimetype": "text/x-python",
      "name": "python",
      "nbconvert_exporter": "python",
      "pygments_lexer": "ipython3",
      "version": "3.9.19"
    }
  },
  "nbformat": 4,
  "nbformat_minor": 0
}
