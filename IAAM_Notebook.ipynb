{
 "cells": [
  {
   "cell_type": "markdown",
   "metadata": {},
   "source": [
    "## Installing the necessary packages"
   ]
  },
  {
   "cell_type": "code",
   "execution_count": 1,
   "metadata": {
    "collapsed": true
   },
   "outputs": [
    {
     "name": "stdout",
     "output_type": "stream",
     "text": [
      "Collecting diplib\n",
      "  Downloading diplib-3.4.3-cp39-cp39-win_amd64.whl.metadata (6.1 kB)\n",
      "Downloading diplib-3.4.3-cp39-cp39-win_amd64.whl (5.1 MB)\n",
      "   ---------------------------------------- 0.0/5.1 MB ? eta -:--:--\n",
      "   ---------------------------------------- 0.0/5.1 MB ? eta -:--:--\n",
      "   ---------------------------------------- 0.1/5.1 MB 1.1 MB/s eta 0:00:05\n",
      "   ------- -------------------------------- 1.0/5.1 MB 10.2 MB/s eta 0:00:01\n",
      "   ---------------- ----------------------- 2.1/5.1 MB 19.1 MB/s eta 0:00:01\n",
      "   ---------------- ----------------------- 2.1/5.1 MB 19.1 MB/s eta 0:00:01\n",
      "   ---------------- ----------------------- 2.1/5.1 MB 19.1 MB/s eta 0:00:01\n",
      "   ---------------- ----------------------- 2.1/5.1 MB 19.1 MB/s eta 0:00:01\n",
      "   ------------------------ --------------- 3.1/5.1 MB 10.6 MB/s eta 0:00:01\n",
      "   ------------------------ --------------- 3.1/5.1 MB 10.6 MB/s eta 0:00:01\n",
      "   -------------------------------- ------- 4.2/5.1 MB 10.7 MB/s eta 0:00:01\n",
      "   -------------------------------- ------- 4.2/5.1 MB 10.7 MB/s eta 0:00:01\n",
      "   ---------------------------------------- 5.1/5.1 MB 10.2 MB/s eta 0:00:00\n",
      "Installing collected packages: diplib\n",
      "Successfully installed diplib-3.4.3\n",
      "Requirement already satisfied: numpy in c:\\users\\bramv\\miniconda3\\envs\\tf\\lib\\site-packages (1.23.5)\n"
     ]
    }
   ],
   "source": [
    "!pip install diplib\n",
    "!pip install numpy"
   ]
  },
  {
   "cell_type": "markdown",
   "metadata": {},
   "source": [
    "## Make a path to your files\n",
    "Make sure you have a folder on your computer named \"IAAM_Images\" and that you have the images saved inside that folder.\n",
    "after ```home_dir``` you put the location of the folder in which you put your IAAM_Images. "
   ]
  },
  {
   "cell_type": "code",
   "execution_count": 16,
   "metadata": {
    "collapsed": true
   },
   "outputs": [
    {
     "name": "stdout",
     "output_type": "stream",
     "text": [
      ".\\IAAM_Images\n",
      "The path exists and can be found.\n"
     ]
    }
   ],
   "source": [
    "%matplotlib inline\n",
    "import diplib as dip\n",
    "import numpy as np\n",
    "import os\n",
    "\n",
    "# Define the path to the home_dir folder on the C or D drive ()\n",
    "home_dir = \".\\\\\"  # Use double backslashes to escape the backslash\n",
    "\n",
    "# Construct the full path to the folder \"IAAM Images\" within the home_dir folder\n",
    "iaam_images_path = os.path.join(home_dir, \"IAAM_Images\")\n",
    "\n",
    "\n",
    "print ( iaam_images_path)\n",
    "# Check if the code can find the file (check the file)\n",
    "if os.path.exists(home_dir):\n",
    "    print(\"The path exists and can be found.\")\n",
    "else:\n",
    "    print(\"The path does not exist or cannot be found.\")\n"
   ]
  },
  {
   "cell_type": "markdown",
   "metadata": {},
   "source": [
    "## Read the image"
   ]
  },
  {
   "cell_type": "code",
   "execution_count": 19,
   "metadata": {
    "collapsed": true
   },
   "outputs": [],
   "source": [
    "# Specify the file name (for other images put other filenames here.)\n",
    "file_name = \"rect1b.tif\"\n",
    "A = dip.ImageReadTIFF(os.path.join(iaam_images_path, file_name))"
   ]
  },
  {
   "cell_type": "markdown",
   "metadata": {},
   "source": [
    "## Show the image \n",
    "A pop-up window will open"
   ]
  },
  {
   "cell_type": "code",
   "execution_count": 20,
   "metadata": {
    "collapsed": true
   },
   "outputs": [
    {
     "data": {
      "text/plain": [
       "<diplib.PyDIPviewer.SliceViewer at 0x1fc8869adb0>"
      ]
     },
     "execution_count": 20,
     "metadata": {},
     "output_type": "execute_result"
    }
   ],
   "source": [
    "dip.viewer.Show(A)"
   ]
  },
  {
   "cell_type": "code",
   "execution_count": null,
   "metadata": {},
   "outputs": [],
   "source": []
  }
 ],
 "metadata": {
  "kernelspec": {
   "display_name": "Python 3",
   "language": "python",
   "name": "python3"
  },
  "language_info": {
   "codemirror_mode": {
    "name": "ipython",
    "version": 3
   },
   "file_extension": ".py",
   "mimetype": "text/x-python",
   "name": "python",
   "nbconvert_exporter": "python",
   "pygments_lexer": "ipython3",
   "version": "3.9.19"
  }
 },
 "nbformat": 4,
 "nbformat_minor": 4
}
