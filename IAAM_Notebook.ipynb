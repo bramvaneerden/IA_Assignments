{
 "cells": [
  {
   "cell_type": "markdown",
   "metadata": {},
   "source": [
    "## Installing the necessary packages"
   ]
  },
  {
   "cell_type": "code",
   "execution_count": 1,
   "metadata": {
    "collapsed": true
   },
   "outputs": [
    {
     "name": "stdout",
     "output_type": "stream",
     "text": [
      "Requirement already satisfied: diplib in c:\\users\\ihord\\anaconda3\\lib\\site-packages (3.4.1)\n",
      "Requirement already satisfied: numpy in c:\\users\\ihord\\anaconda3\\lib\\site-packages (1.19.2)\n"
     ]
    }
   ],
   "source": [
    "!pip install diplib\n",
    "!pip install numpy"
   ]
  },
  {
   "cell_type": "markdown",
   "metadata": {},
   "source": [
    "## Make a path to your files\n",
    "Make sure you have a folder on your computer named \"IAAM_Images\" and that you have the images saved inside that folder.\n",
    "after ```home_dir``` you put the location of the folder in which you put your IAAM_Images. "
   ]
  },
  {
   "cell_type": "code",
   "execution_count": 2,
   "metadata": {
    "collapsed": true
   },
   "outputs": [
    {
     "name": "stdout",
     "output_type": "stream",
     "text": [
      "DIPlib -- a quantitative image analysis library\n",
      "Version 3.4.1 (Oct 13 2023)\n",
      "For more information see https://diplib.org\n",
      "The path exists and can be found.\n"
     ]
    }
   ],
   "source": [
    "%matplotlib inline\n",
    "import diplib as dip\n",
    "import numpy as np\n",
    "import os\n",
    "\n",
    "# Define the path to the home_dir folder on the C or D drive ()\n",
    "home_dir = \"D:\\\\Downloads\"  # Use double backslashes to escape the backslash\n",
    "\n",
    "# Construct the full path to the folder \"IAAM Images\" within the home_dir folder\n",
    "iaam_images_path = os.path.join(home_dir, \"IAAM_Images\")\n",
    "\n",
    "\n",
    "# Check if the code can find the file (check the file)\n",
    "if os.path.exists(iaam_images_path):\n",
    "    print(\"The path exists and can be found.\")\n",
    "else:\n",
    "    print(\"The path does not exist or cannot be found.\")\n"
   ]
  },
  {
   "cell_type": "markdown",
   "metadata": {},
   "source": [
    "## Read the image"
   ]
  },
  {
   "cell_type": "code",
   "execution_count": 3,
   "metadata": {
    "collapsed": true
   },
   "outputs": [],
   "source": [
    "# Specify the file name (for other images put other filenames here.)\n",
    "file_name = \"trui.tif\"\n",
    "A = dip.ImageReadTIFF(os.path.join(iaam_images_path, file_name))"
   ]
  },
  {
   "cell_type": "markdown",
   "metadata": {},
   "source": [
    "## Show the image \n",
    "A pop-up window will open"
   ]
  },
  {
   "cell_type": "code",
   "execution_count": 4,
   "metadata": {
    "collapsed": true
   },
   "outputs": [
    {
     "data": {
      "text/plain": [
       "<diplib.PyDIPviewer.SliceViewer at 0x2ad686d6cf0>"
      ]
     },
     "execution_count": 4,
     "metadata": {},
     "output_type": "execute_result"
    }
   ],
   "source": [
    "dip.viewer.Show(A)"
   ]
  }
 ],
 "metadata": {
  "kernelspec": {
   "display_name": "Python 3",
   "language": "python",
   "name": "python3"
  },
  "language_info": {
   "codemirror_mode": {
    "name": "ipython",
    "version": 3
   },
   "file_extension": ".py",
   "mimetype": "text/x-python",
   "name": "python",
   "nbconvert_exporter": "python",
   "pygments_lexer": "ipython3",
   "version": "3.8.5"
  }
 },
 "nbformat": 4,
 "nbformat_minor": 4
}
